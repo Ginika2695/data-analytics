{
  "nbformat": 4,
  "nbformat_minor": 0,
  "metadata": {
    "colab": {
      "provenance": [],
      "authorship_tag": "ABX9TyOa1JV8QpAj1V1mPGIWpSPI",
      "include_colab_link": true
    },
    "kernelspec": {
      "name": "python3",
      "display_name": "Python 3"
    },
    "language_info": {
      "name": "python"
    }
  },
  "cells": [
    {
      "cell_type": "markdown",
      "metadata": {
        "id": "view-in-github",
        "colab_type": "text"
      },
      "source": [
        "<a href=\"https://colab.research.google.com/github/Ginika2695/data-analytics/blob/main/SOKOTO_DATA.ipynb\" target=\"_parent\"><img src=\"https://colab.research.google.com/assets/colab-badge.svg\" alt=\"Open In Colab\"/></a>"
      ]
    },
    {
      "cell_type": "code",
      "source": [
        "import pandas as pd\n",
        "election_data = pd.read_csv('/content/SOKOTO_crosschecked.csv')\n",
        "print(election_data)"
      ],
      "metadata": {
        "colab": {
          "base_uri": "https://localhost:8080/"
        },
        "id": "pdxptl3rpKxy",
        "outputId": "9ad1c7f5-3bfa-48dc-8a0d-f9449b0cb752"
      },
      "execution_count": null,
      "outputs": [
        {
          "output_type": "stream",
          "name": "stdout",
          "text": [
            "      State      LGA                 Ward       PU-Code  \\\n",
            "0    SOKOTO    BINJI               INNAME  33-01-01-002   \n",
            "1    SOKOTO    BINJI               SAMAMA  33-01-02-001   \n",
            "2    SOKOTO    BINJI                BINJI  33-01-03-002   \n",
            "3    SOKOTO  BODINGA             BAGARAWA  33-02-02-003   \n",
            "4    SOKOTO  BODINGA      DINGYADI/BADAWA  33-02-06-015   \n",
            "..      ...      ...                  ...           ...   \n",
            "127  SOKOTO  WAMAKKO              ARKILLA  33-21-01-039   \n",
            "128  SOKOTO  WAMAKKO              ARKILLA  33-21-01-042   \n",
            "129  SOKOTO  WAMAKKO  KALAMBAINA/GIRABSHI  33-21-04-012   \n",
            "130  SOKOTO  WAMAKKO  KALAMBAINA/GIRABSHI  33-21-04-013   \n",
            "131  SOKOTO    WURNO               MARAFA  33-22-01-017   \n",
            "\n",
            "                                    PU-Name  Accredited_Voters  \\\n",
            "0                            GURUZA /SAMAMA                261   \n",
            "1                             SAMAMA MARINA                244   \n",
            "2                                  BAJAGAWA                303   \n",
            "3                          PRY SCH, R/YARDE                  0   \n",
            "4                        DANFILI,RUNJI AUDU                189   \n",
            "..                                      ...                ...   \n",
            "127                         SIDE ABUJA ROAD                 43   \n",
            "128            KAUKABU  SEC. SCH. ZURU ROAD                130   \n",
            "129            NEAR BOREHOLE YARKULU MARKET                199   \n",
            "130  B/RIJIYA NEAR MALAM MUAZU SCH. G. RAFI                151   \n",
            "131                                 YANKITA                209   \n",
            "\n",
            "     Registered_Voters  Results_Found  Transcription_Count  \\\n",
            "0                  748           True                   -1   \n",
            "1                  750           True                   -1   \n",
            "2                  557           True                   -1   \n",
            "3                  790           True                   -1   \n",
            "4                  532           True                   -1   \n",
            "..                 ...            ...                  ...   \n",
            "127                 62           True                   -1   \n",
            "128                449           True                   -1   \n",
            "129                483           True                   -1   \n",
            "130                750           True                   -1   \n",
            "131                405           True                   -1   \n",
            "\n",
            "     Result_Sheet_Stamped  Result_Sheet_Corrected  Result_Sheet_Invalid  \\\n",
            "0                    True                   False                 False   \n",
            "1                    True                   False                 False   \n",
            "2                    True                   False                 False   \n",
            "3                    True                   False                 False   \n",
            "4                   False                   False                 False   \n",
            "..                    ...                     ...                   ...   \n",
            "127                  True                   False                 False   \n",
            "128                  True                   False                 False   \n",
            "129                 False                    True                 False   \n",
            "130                  True                   False                 False   \n",
            "131                 False                   False                 False   \n",
            "\n",
            "     Result_Sheet_Unclear Result_Sheet_Unsigned  APC  LP  PDP  NNPP  \\\n",
            "0                   False               UNKNOWN  116   0  138     0   \n",
            "1                   False               UNKNOWN  114   0  107     0   \n",
            "2                   False               UNKNOWN   91   0  176     1   \n",
            "3                   False               UNKNOWN   57   0  203     0   \n",
            "4                   False               UNKNOWN  117   0   69     0   \n",
            "..                    ...                   ...  ...  ..  ...   ...   \n",
            "127                 False               UNKNOWN   60   1  122     0   \n",
            "128                 False               UNKNOWN   59   3   53     0   \n",
            "129                 False               UNKNOWN   58   0  136     0   \n",
            "130                 False               UNKNOWN   76   0   72     0   \n",
            "131                 False               UNKNOWN   75   0   59     0   \n",
            "\n",
            "                                          Results_File  \n",
            "0    https://inec-cvr-cache.s3.eu-west-1.amazonaws....  \n",
            "1    https://inec-cvr-cache.s3.eu-west-1.amazonaws....  \n",
            "2    https://docs.inecelectionresults.net/elections...  \n",
            "3    https://inec-cvr-cache.s3.eu-west-1.amazonaws....  \n",
            "4    https://inec-cvr-cache.s3.eu-west-1.amazonaws....  \n",
            "..                                                 ...  \n",
            "127  https://docs.inecelectionresults.net/elections...  \n",
            "128  https://docs.inecelectionresults.net/elections...  \n",
            "129  https://docs.inecelectionresults.net/elections...  \n",
            "130  https://docs.inecelectionresults.net/elections...  \n",
            "131  https://inec-cvr-cache.s3.eu-west-1.amazonaws....  \n",
            "\n",
            "[132 rows x 19 columns]\n"
          ]
        }
      ]
    },
    {
      "cell_type": "code",
      "source": [
        "# Z-score based outlier detection for distances (modified for numerical scores)\n",
        "def calculate_distance_zscores(distances):\n",
        "    return np.abs((distances - np.mean(distances)) / np.std(distances)) > 3\n",
        "\n",
        "# IQR based outlier detection for distances (modified for numerical scores)\n",
        "def calculate_distance_iqr_scores(distances):\n",
        "    Q1 = np.percentile(distances, 25)\n",
        "    Q3 = np.percentile(distances, 75)\n",
        "    IQR = Q3 - Q1\n",
        "    lower_bound = Q1 - 1.5 * IQR\n",
        "    upper_bound = Q3 + 1.5 * IQR\n",
        "    scores = np.where((distances < lower_bound) | (distances > upper_bound),\n",
        "                      np.maximum(np.abs(distances - lower_bound), np.abs(distances - upper_bound)) / IQR,\n",
        "                      0)\n",
        "    return scores\n",
        "\n",
        "# Calculate Z-score based outlier scores for distances\n",
        "zscore_distance_scores = calculate_distance_zscores(mean_distances)\n",
        "\n",
        "# Calculate IQR based outlier scores for distances\n",
        "iqr_distance_scores = calculate_distance_iqr_scores(mean_distances)\n",
        "\n",
        "# Add outlier scores as new columns (overwrite previous boolean columns)\n",
        "election_data['Distance_Zscore_Outlier'] = np.nan\n",
        "election_data['Distance_IQR_Outlier'] = np.nan\n",
        "\n",
        "election_data.loc[election_data['Latitude'].notna(), 'Distance_Zscore_Outlier'] = zscore_distance_scores\n",
        "election_data.loc[election_data['Latitude'].notna(), 'Distance_IQR_Outlier'] = iqr_distance_scores\n",
        "\n",
        "print(election_data)"
      ],
      "metadata": {
        "colab": {
          "base_uri": "https://localhost:8080/",
          "height": 211
        },
        "id": "WFay3N9eq12T",
        "outputId": "0beb3eb9-a648-426c-fecd-023ddd0b0fa4"
      },
      "execution_count": null,
      "outputs": [
        {
          "output_type": "error",
          "ename": "NameError",
          "evalue": "name 'mean_distances' is not defined",
          "traceback": [
            "\u001b[0;31m---------------------------------------------------------------------------\u001b[0m",
            "\u001b[0;31mNameError\u001b[0m                                 Traceback (most recent call last)",
            "\u001b[0;32m<ipython-input-17-519b7c362a15>\u001b[0m in \u001b[0;36m<cell line: 18>\u001b[0;34m()\u001b[0m\n\u001b[1;32m     16\u001b[0m \u001b[0;34m\u001b[0m\u001b[0m\n\u001b[1;32m     17\u001b[0m \u001b[0;31m# Calculate Z-score based outlier scores for distances\u001b[0m\u001b[0;34m\u001b[0m\u001b[0;34m\u001b[0m\u001b[0m\n\u001b[0;32m---> 18\u001b[0;31m \u001b[0mzscore_distance_scores\u001b[0m \u001b[0;34m=\u001b[0m \u001b[0mcalculate_distance_zscores\u001b[0m\u001b[0;34m(\u001b[0m\u001b[0mmean_distances\u001b[0m\u001b[0;34m)\u001b[0m\u001b[0;34m\u001b[0m\u001b[0;34m\u001b[0m\u001b[0m\n\u001b[0m\u001b[1;32m     19\u001b[0m \u001b[0;34m\u001b[0m\u001b[0m\n\u001b[1;32m     20\u001b[0m \u001b[0;31m# Calculate IQR based outlier scores for distances\u001b[0m\u001b[0;34m\u001b[0m\u001b[0;34m\u001b[0m\u001b[0m\n",
            "\u001b[0;31mNameError\u001b[0m: name 'mean_distances' is not defined"
          ]
        }
      ]
    },
    {
      "cell_type": "code",
      "source": [
        "# Z-score based outlier detection for distances (modified for numerical scores)\n",
        "def calculate_distance_zscores(distances):\n",
        "    return np.abs((distances - np.mean(distances)) / np.std(distances))\n",
        "\n",
        "# ... (rest of your existing code) ...\n",
        "\n",
        "# Check if 'Distance' column exists before calculation\n",
        "if 'Distance' in election_data.columns:\n",
        "    # Calculate Z-score based outlier scores for distances (overwriting previous boolean result)\n",
        "    # Ensure the result aligns with the DataFrame's length\n",
        "    zscore_distance_scores = calculate_distance_zscores(election_data['Distance']) # Calculate for the entire 'Distance' column\n",
        "\n",
        "    # Handle potential missing values in 'Distance'\n",
        "    election_data['Distance_Zscore_Outlier'] = np.nan\n",
        "    election_data.loc[election_data['Distance'].notna(), 'Distance_Zscore_Outlier'] = zscore_distance_scores\n",
        "else:\n",
        "    print(\"Warning: 'Distance' column not found in the DataFrame. Please calculate distances first.\")\n",
        "\n",
        "# ... (rest of your code to write to Google Sheets) ..."
      ],
      "metadata": {
        "id": "haoPbF2Fwm2P"
      },
      "execution_count": null,
      "outputs": []
    },
    {
      "cell_type": "code",
      "source": [
        "from scipy.spatial.distance import cdist\n",
        "\n",
        "# Calculate pairwise distances between coordinates\n",
        "distances = cdist(election_data[['Latitude', 'Longitude']].dropna().values,\n",
        "                 election_data[['Latitude', 'Longitude']].dropna().values)\n",
        "\n",
        "# Calculate mean distance for each point\n",
        "mean_distances = np.mean(distances, axis=1)\n",
        "\n",
        "# Now you can use mean_distances for further calculations or analysis\n",
        "# For example, you can add it as a new column to your DataFrame:\n",
        "election_data['Distance'] = np.nan\n",
        "election_data.loc[election_data['Latitude'].notna(), 'Distance'] = mean_distances\n",
        "\n",
        "print(election_data)"
      ],
      "metadata": {
        "id": "REhnNRprxAP7"
      },
      "execution_count": null,
      "outputs": []
    },
    {
      "cell_type": "code",
      "source": [
        "# Outlier Detection using Z-score\n",
        "def calculate_zscores(data):\n",
        "    return np.abs((data - data.mean()) / data.std())\n",
        "\n",
        "# Outlier Detection using IQR\n",
        "def calculate_iqr_scores(data):\n",
        "    Q1 = data.quantile(0.25)\n",
        "    Q3 = data.quantile(0.75)\n",
        "    IQR = Q3 - Q1\n",
        "    lower_bound = Q1 - 1.5 * IQR\n",
        "    upper_bound = Q3 + 1.5 * IQR\n",
        "    scores = np.where((data < lower_bound) | (data > upper_bound),\n",
        "                      np.maximum(np.abs(data - lower_bound), np.abs(data - upper_bound)) / IQR,\n",
        "                      0)\n",
        "    return scores\n",
        "\n",
        "# Calculate outlier scores and add them as columns\n",
        "for party in ['LP', 'APC', 'PDP', 'NNPP']:\n",
        "    election_data[f'{party}_Zscore_Outlier'] = calculate_zscores(election_data[party])\n",
        "    election_data[f'{party}_IQR_Outlier'] = calculate_iqr_scores(election_data[party])\n",
        "\n",
        "print(election_data)"
      ],
      "metadata": {
        "id": "mk3D1OpVr5AA"
      },
      "execution_count": null,
      "outputs": []
    },
    {
      "cell_type": "code",
      "source": [
        "from google.colab import auth\n",
        "auth.authenticate_user()\n",
        "\n",
        "import gspread\n",
        "from google.auth import default\n",
        "creds, _ = default()\n",
        "gc = gspread.authorize(creds)\n",
        "\n",
        "# Ensure the spreadsheet name is correct and exists in your Google Drive\n",
        "spreadsheet_name = 'Sokoto updated sheet'  # Double-check this name\n",
        "\n",
        "try:\n",
        "    # Attempt to open the spreadsheet\n",
        "    sheet = gc.open(spreadsheet_name).sheet1\n",
        "\n",
        "    # Convert the DataFrame to a list of lists for writing to Google Sheets\n",
        "    # Replace infinite values with a large number or string representation\n",
        "    data_to_write = election_data.replace([np.inf, -np.inf], np.nan).fillna('Infinity').values.tolist()\n",
        "\n",
        "    # Write the data to the Google Sheet (starting from cell A1)\n",
        "    sheet.update('A1', data_to_write)\n",
        "\n",
        "    print(\"Data successfully written to Google Sheet!\")\n",
        "\n",
        "except gspread.exceptions.SpreadsheetNotFound:\n",
        "    print(f\"Error: Spreadsheet '{spreadsheet_name}' not found. Please check the name and ensure it exists.\")"
      ],
      "metadata": {
        "id": "zcUUw-g1tlQG"
      },
      "execution_count": null,
      "outputs": []
    },
    {
      "cell_type": "code",
      "source": [
        "from google.colab import auth\n",
        "auth.authenticate_user()\n",
        "\n",
        "import gspread\n",
        "from google.auth import default\n",
        "creds, _ = default()\n",
        "gc = gspread.authorize(creds)\n",
        "\n",
        "# Open the desired Google Sheet (or create a new one)\n",
        "# Replace 'Your Spreadsheet Name' with the actual name of your sheet\n",
        "sheet = gc.open('Sokoto updated sheet').sheet1\n",
        "\n",
        "# Get the column names\n",
        "column_names = election_data.columns.tolist()\n",
        "\n",
        "# Convert the DataFrame to a list of lists, including column names\n",
        "# Replace infinite and NaN values with empty strings\n",
        "# (or any other suitable representation for your use case)\n",
        "data_to_write = [column_names] + election_data.replace([np.inf, -np.inf, np.nan], '').values.tolist()\n",
        "\n",
        "# Write the data to the Google Sheet (starting from cell A1)\n",
        "sheet.update('A1', data_to_write)"
      ],
      "metadata": {
        "id": "rYFN1AHvunDj"
      },
      "execution_count": null,
      "outputs": []
    },
    {
      "cell_type": "code",
      "source": [
        "# Outlier Detection using Z-score\n",
        "def calculate_zscores(data):\n",
        "    return np.abs((data - data.mean()) / data.std())\n",
        "\n",
        "# Outlier Detection using IQR\n",
        "def calculate_iqr_scores(data):\n",
        "    Q1 = data.quantile(0.25)\n",
        "    Q3 = data.quantile(0.75)\n",
        "    IQR = Q3 - Q1\n",
        "    lower_bound = Q1 - 1.5 * IQR\n",
        "    upper_bound = Q3 + 1.5 * IQR\n",
        "    scores = np.where((data < lower_bound) | (data > upper_bound),\n",
        "                      np.maximum(np.abs(data - lower_bound), np.abs(data - upper_bound)) / IQR,\n",
        "                      0)\n",
        "    return scores\n",
        "\n",
        "# Calculate outlier scores and add them as columns\n",
        "# Make sure to execute this cell before running the outlier detection code\n",
        "for party in ['LP', 'APC', 'PDP', 'NNPP']:\n",
        "    election_data[f'{party}_Zscore_Outlier'] = calculate_zscores(election_data[party])\n",
        "    election_data[f'{party}_IQR_Outlier'] = calculate_iqr_scores(election_data[party])\n",
        "\n",
        "# Now you can proceed with outlier detection\n",
        "for party in ['LP', 'PDP', 'APC', 'NNPP']:\n",
        "    # Filter for outliers based on Z-score and sort by outlier score\n",
        "    party_outliers = election_data[election_data[f'{party}_Zscore_Outlier'] > 3].sort_values(by=f'{party}_Zscore_Outlier', ascending=False).head(3)\n",
        "    print(f\"Top 3 Outliers for {party} (Z-score):\\n\", party_outliers[['Ward', party, f'{party}_Zscore_Outlier']])"
      ],
      "metadata": {
        "id": "QsCXtfD2L05o"
      },
      "execution_count": null,
      "outputs": []
    },
    {
      "cell_type": "code",
      "source": [
        "# ... previous code for outlier calculation ...\n",
        "\n",
        "# Authenticate and authorize with Google Sheets\n",
        "from google.colab import auth\n",
        "auth.authenticate_user()\n",
        "import gspread\n",
        "from google.auth import default\n",
        "creds, _ = default()\n",
        "gc = gspread.authorize(creds)  # Define 'gc' here\n",
        "\n",
        "# Open the desired Google Sheet and select sheet 2\n",
        "sheet2 = gc.open('Sokoto updated sheet').get_worksheet(1)  # 0-indexed, so 1 is the second sheet\n",
        "\n",
        "# ... (rest of your code) ..."
      ],
      "metadata": {
        "id": "5kN40yzPMkoa"
      },
      "execution_count": null,
      "outputs": []
    }
  ]
}